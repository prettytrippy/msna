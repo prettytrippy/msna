{
 "cells": [
  {
   "cell_type": "code",
   "execution_count": 1,
   "metadata": {},
   "outputs": [
    {
     "name": "stderr",
     "output_type": "stream",
     "text": [
      "/Users/trippdow/Projects/HealthIntelligence/msna/msna/our_methods/binary_classifier/msna_pipeline.py:49: FutureWarning: You are using `torch.load` with `weights_only=False` (the current default value), which uses the default pickle module implicitly. It is possible to construct malicious pickle data which will execute arbitrary code during unpickling (See https://github.com/pytorch/pytorch/blob/main/SECURITY.md#untrusted-models for more details). In a future release, the default value for `weights_only` will be flipped to `True`. This limits the functions that could be executed during unpickling. Arbitrary objects will no longer be allowed to be loaded via this mode unless they are explicitly allowlisted by the user via `torch.serialization.add_safe_globals`. We recommend you start setting `weights_only=True` for any use case where you don't have full control of the loaded file. Please open an issue on GitHub for any issues related to this experimental feature.\n",
      "  self.cnn.load_state_dict(torch.load(f\"{output_folder}/model_parameters.pth\"))\n"
     ]
    }
   ],
   "source": [
    "import sys\n",
    "import glob\n",
    "from scipy.optimize import differential_evolution, dual_annealing, minimize\n",
    "import torch\n",
    "import numpy as np\n",
    "\n",
    "sys.path.append(\"..\")\n",
    "from msna_common import get_dataframes\n",
    "from msna.our_methods.binary_classifier.msna_cnn import MSNA_CNN\n",
    "from msna.our_methods.binary_classifier.msna_pipeline import MSNA_pipeline\n",
    "\n",
    "# sys.path.append(\"../other_methods\")\n",
    "# from spike_deconvolution import SpikeDeconvolverPipeline\n",
    "# from dtct import DTCT_pipeline\n",
    "# from dtcts import DTCT1, DTCT2\n",
    "# from wavelet import WaveletPipeline\n",
    "# from find_peaks import PeakFinderPipeline"
   ]
  },
  {
   "cell_type": "code",
   "execution_count": 2,
   "metadata": {},
   "outputs": [],
   "source": [
    "files = glob.glob(\"../../../Archival/MSNAS/MSNA*/MSNA*burstcomments*.txt\")"
   ]
  },
  {
   "cell_type": "code",
   "execution_count": 6,
   "metadata": {},
   "outputs": [],
   "source": [
    "pipeline = MSNA_pipeline(\n",
    "        window_size=256, verbose=True, \n",
    "        argmax_prop=0.35, dropout_prob=0.6, \n",
    "        fc_dim=32, training_imbalance=4.0,\n",
    "        rectify_prop=0.5, low_freq=0.5, high_freq=35,\n",
    "        augment_prob=0.0, a=1\n",
    ")\n",
    "\n",
    "# pipeline = WaveletPipeline(scale=10)\n",
    "# pipeline = DTCT_pipeline(DTCT1, low=2000, high=2000, sampling_rate=1000, verbose=True)\n",
    "# pipeline = DTCT_pipeline(DTCT2, low=500, high=500, sampling_rate=1000, verbose=True)\n",
    "# pipeline = SpikeDeconvolverPipeline(verbose=True, n=128)\n",
    "# pipeline = PeakFinderPipeline(verbose=True)"
   ]
  },
  {
   "cell_type": "code",
   "execution_count": 7,
   "metadata": {},
   "outputs": [
    {
     "name": "stdout",
     "output_type": "stream",
     "text": [
      "Training\n",
      "Processing dataframes.\n",
      "Processed dataframes, chunking.\n",
      "Got chunks, making dataloader.\n",
      "Made dataloader, training CNN.\n"
     ]
    },
    {
     "name": "stderr",
     "output_type": "stream",
     "text": [
      "/Users/trippdow/anaconda3/envs/msna_test/lib/python3.12/site-packages/torch/optim/lr_scheduler.py:62: UserWarning: The verbose parameter is deprecated. Please use get_last_lr() to access the learning rate.\n",
      "  warnings.warn(\n"
     ]
    },
    {
     "name": "stdout",
     "output_type": "stream",
     "text": [
      "Epoch [8/16], Loss: 0.1220\n",
      "Epoch [16/16], Loss: 0.0907\n",
      "Training complete.\n",
      "trained CNN, getting threshold.\n",
      "Threshold result:              message: Optimization terminated successfully.\n",
      "             success: True\n",
      "                 fun: 0.12709213389350774\n",
      "                   x: [ 7.288e-01]\n",
      "                 nit: 3\n",
      "                nfev: 62\n",
      "          population: [[ 7.288e-01]\n",
      "                       [ 6.690e-01]\n",
      "                       ...\n",
      "                       [ 8.117e-01]\n",
      "                       [ 7.284e-01]]\n",
      " population_energies: [ 1.271e-01  1.288e-01 ...  1.282e-01  1.272e-01]\n",
      "Got threshold, training complete.\n",
      "Validating\n",
      "F1 for split 1: 0.8340391128988867\n",
      "Training\n",
      "Processing dataframes.\n",
      "Processed dataframes, chunking.\n",
      "Got chunks, making dataloader.\n",
      "Made dataloader, training CNN.\n"
     ]
    },
    {
     "name": "stderr",
     "output_type": "stream",
     "text": [
      "/Users/trippdow/anaconda3/envs/msna_test/lib/python3.12/site-packages/torch/optim/lr_scheduler.py:62: UserWarning: The verbose parameter is deprecated. Please use get_last_lr() to access the learning rate.\n",
      "  warnings.warn(\n"
     ]
    },
    {
     "name": "stdout",
     "output_type": "stream",
     "text": [
      "Epoch [8/16], Loss: 0.1299\n",
      "Epoch [16/16], Loss: 0.1106\n",
      "Training complete.\n",
      "trained CNN, getting threshold.\n",
      "Threshold result:              message: Optimization terminated successfully.\n",
      "             success: True\n",
      "                 fun: 0.13424625280938396\n",
      "                   x: [ 5.151e-01]\n",
      "                 nit: 4\n",
      "                nfev: 77\n",
      "          population: [[ 5.151e-01]\n",
      "                       [ 5.934e-01]\n",
      "                       ...\n",
      "                       [ 5.244e-01]\n",
      "                       [ 5.734e-01]]\n",
      " population_energies: [ 1.342e-01  1.375e-01 ...  1.346e-01  1.355e-01]\n",
      "Got threshold, training complete.\n",
      "Validating\n",
      "F1 for split 2: 0.8649736439202792\n",
      "Training\n",
      "Processing dataframes.\n",
      "Processed dataframes, chunking.\n",
      "Got chunks, making dataloader.\n",
      "Made dataloader, training CNN.\n"
     ]
    },
    {
     "name": "stderr",
     "output_type": "stream",
     "text": [
      "/Users/trippdow/anaconda3/envs/msna_test/lib/python3.12/site-packages/torch/optim/lr_scheduler.py:62: UserWarning: The verbose parameter is deprecated. Please use get_last_lr() to access the learning rate.\n",
      "  warnings.warn(\n"
     ]
    },
    {
     "name": "stdout",
     "output_type": "stream",
     "text": [
      "Epoch [8/16], Loss: 0.1288\n",
      "Epoch [16/16], Loss: 0.1020\n",
      "Training complete.\n",
      "trained CNN, getting threshold.\n",
      "Threshold result:              message: Optimization terminated successfully.\n",
      "             success: True\n",
      "                 fun: 0.1394233729434126\n",
      "                   x: [ 5.007e-01]\n",
      "                 nit: 3\n",
      "                nfev: 62\n",
      "          population: [[ 5.007e-01]\n",
      "                       [ 5.050e-01]\n",
      "                       ...\n",
      "                       [ 5.518e-01]\n",
      "                       [ 4.999e-01]]\n",
      " population_energies: [ 1.394e-01  1.396e-01 ...  1.411e-01  1.395e-01]\n",
      "Got threshold, training complete.\n",
      "Validating\n",
      "F1 for split 3: 0.877851599844208\n",
      "Training\n",
      "Processing dataframes.\n",
      "Processed dataframes, chunking.\n",
      "Got chunks, making dataloader.\n",
      "Made dataloader, training CNN.\n"
     ]
    },
    {
     "name": "stderr",
     "output_type": "stream",
     "text": [
      "/Users/trippdow/anaconda3/envs/msna_test/lib/python3.12/site-packages/torch/optim/lr_scheduler.py:62: UserWarning: The verbose parameter is deprecated. Please use get_last_lr() to access the learning rate.\n",
      "  warnings.warn(\n"
     ]
    },
    {
     "name": "stdout",
     "output_type": "stream",
     "text": [
      "Epoch [8/16], Loss: 0.1160\n",
      "Epoch [16/16], Loss: 0.0995\n",
      "Training complete.\n",
      "trained CNN, getting threshold.\n",
      "Threshold result:              message: Optimization terminated successfully.\n",
      "             success: True\n",
      "                 fun: 0.12407251615908936\n",
      "                   x: [ 4.993e-01]\n",
      "                 nit: 3\n",
      "                nfev: 62\n",
      "          population: [[ 4.993e-01]\n",
      "                       [ 5.946e-01]\n",
      "                       ...\n",
      "                       [ 4.506e-01]\n",
      "                       [ 5.333e-01]]\n",
      " population_energies: [ 1.241e-01  1.265e-01 ...  1.280e-01  1.254e-01]\n",
      "Got threshold, training complete.\n",
      "Validating\n",
      "F1 for split 4: 0.8202713768625177\n",
      "Training\n",
      "Processing dataframes.\n",
      "Processed dataframes, chunking.\n",
      "Got chunks, making dataloader.\n",
      "Made dataloader, training CNN.\n"
     ]
    },
    {
     "name": "stderr",
     "output_type": "stream",
     "text": [
      "/Users/trippdow/anaconda3/envs/msna_test/lib/python3.12/site-packages/torch/optim/lr_scheduler.py:62: UserWarning: The verbose parameter is deprecated. Please use get_last_lr() to access the learning rate.\n",
      "  warnings.warn(\n"
     ]
    },
    {
     "name": "stdout",
     "output_type": "stream",
     "text": [
      "Epoch [8/16], Loss: 0.1424\n",
      "Epoch [16/16], Loss: 0.1144\n",
      "Training complete.\n",
      "trained CNN, getting threshold.\n",
      "Threshold result:              message: Optimization terminated successfully.\n",
      "             success: True\n",
      "                 fun: 0.13509749977541555\n",
      "                   x: [ 6.343e-01]\n",
      "                 nit: 3\n",
      "                nfev: 62\n",
      "          population: [[ 6.343e-01]\n",
      "                       [ 6.898e-01]\n",
      "                       ...\n",
      "                       [ 6.829e-01]\n",
      "                       [ 6.558e-01]]\n",
      " population_energies: [ 1.351e-01  1.375e-01 ...  1.381e-01  1.369e-01]\n",
      "Got threshold, training complete.\n",
      "Validating\n",
      "F1 for split 5: 0.8919366037203099\n",
      "0.8444035134273349 0.04696917021408468\n",
      "0.8874002667281238 0.01776145556730403\n",
      "0.8578144674492403 0.026802282741797447\n"
     ]
    }
   ],
   "source": [
    "precisions, recalls, f1s = pipeline.k_fold_cross_validation(files, 5)\n",
    "print(np.mean(precisions), np.std(precisions))\n",
    "print(np.mean(recalls), np.std(recalls))\n",
    "print(np.mean(f1s), np.std(f1s))"
   ]
  },
  {
   "cell_type": "code",
   "execution_count": null,
   "metadata": {},
   "outputs": [],
   "source": []
  }
 ],
 "metadata": {
  "kernelspec": {
   "display_name": "Python 3 (ipykernel)",
   "language": "python",
   "name": "python3"
  },
  "language_info": {
   "codemirror_mode": {
    "name": "ipython",
    "version": 3
   },
   "file_extension": ".py",
   "mimetype": "text/x-python",
   "name": "python",
   "nbconvert_exporter": "python",
   "pygments_lexer": "ipython3",
   "version": "3.12.9"
  }
 },
 "nbformat": 4,
 "nbformat_minor": 4
}
