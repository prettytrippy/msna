{
 "cells": [
  {
   "cell_type": "code",
   "execution_count": 1,
   "id": "4f494997-08b9-4d3e-99d9-fb0d9620cc5b",
   "metadata": {},
   "outputs": [
    {
     "name": "stderr",
     "output_type": "stream",
     "text": [
      "/Users/trippdow/Projects/HealthIntelligence/msna/msna/our_method/msna_pipeline.py:49: FutureWarning: You are using `torch.load` with `weights_only=False` (the current default value), which uses the default pickle module implicitly. It is possible to construct malicious pickle data which will execute arbitrary code during unpickling (See https://github.com/pytorch/pytorch/blob/main/SECURITY.md#untrusted-models for more details). In a future release, the default value for `weights_only` will be flipped to `True`. This limits the functions that could be executed during unpickling. Arbitrary objects will no longer be allowed to be loaded via this mode unless they are explicitly allowlisted by the user via `torch.serialization.add_safe_globals`. We recommend you start setting `weights_only=True` for any use case where you don't have full control of the loaded file. Please open an issue on GitHub for any issues related to this experimental feature.\n",
      "  self.cnn.load_state_dict(torch.load(f\"{output_folder}/model_parameters.pth\"))\n"
     ]
    }
   ],
   "source": [
    "import sys\n",
    "sys.path.append(\"..\")\n",
    "from msna.msna_common import get_files, read_msna\n",
    "from msna.our_method.msna_pipeline import MSNA_pipeline\n",
    "# from msna.other_methods.wavelet import WaveletPipeline\n",
    "from msna.other_methods.find_peaks import PeakFinderPipeline\n",
    "from msna.other_methods.spike_deconvolution import SpikeDeconvolverPipeline\n",
    "from msna.other_methods.dtct import DTCT_pipeline\n",
    "from msna.other_methods.dtcts import DTCT2"
   ]
  },
  {
   "cell_type": "code",
   "execution_count": 4,
   "id": "f4273032-a443-4df8-a450-b2eb52bcb091",
   "metadata": {},
   "outputs": [],
   "source": [
    "proposed_pipeline = MSNA_pipeline(\n",
    "        window_size=256, verbose=True, \n",
    "        argmax_prop=0.35, dropout_prob=0.6, \n",
    "        fc_dim=32, training_imbalance=4.0,\n",
    "        rectify_prop=0.5, low_freq=0.5, high_freq=35,\n",
    "        augment_prob=0.0, a=1\n",
    ")\n",
    "\n",
    "# find_peaks_pipeline = PeakFinderPipeline(verbose=True)\n",
    "# wavelet_pipeline = WaveletPipeline(scale=10, verbose=True)\n",
    "# dtct_pipeline = DTCT_pipeline(DTCT2, low=500, high=500, sampling_rate=1000, verbose=True)\n",
    "# spike_deconvolution_pipeline = SpikeDeconvolverPipeline(verbose=True, n=128)\n",
    "\n",
    "files = get_files(glob_regex=\"../../../Archival/MSNAS/MSNA*/MSNA*burstcomments*.txt\")[:-4]"
   ]
  },
  {
   "cell_type": "code",
   "execution_count": null,
   "id": "a6dad4d1-9cb8-4ae0-a61e-62d8fe063af9",
   "metadata": {},
   "outputs": [
    {
     "name": "stdout",
     "output_type": "stream",
     "text": [
      "Processing dataframes.\n"
     ]
    }
   ],
   "source": [
    "# Train on files\n",
    "proposed_pipeline.train(files)\n",
    "\n",
    "# Save new parameters\n",
    "proposed_pipeline.save(\"../our_method/pretrained\")"
   ]
  },
  {
   "cell_type": "code",
   "execution_count": null,
   "id": "0b7d9ed4-1fcd-43d4-8e54-067cba7cd090",
   "metadata": {},
   "outputs": [],
   "source": [
    "# Train on files\n",
    "find_peaks_pipeline.train(files)\n",
    "\n",
    "# Save new parameters\n",
    "find_peaks_pipeline.save(\"../other_methods/pretrained/peak_finder_pretrained\")"
   ]
  },
  {
   "cell_type": "code",
   "execution_count": null,
   "id": "3e1194b6-8104-49b0-ad39-9a99d74e06dd",
   "metadata": {},
   "outputs": [],
   "source": [
    "# Train on files\n",
    "wavelet_pipeline.train(files)\n",
    "\n",
    "# Save new parameters\n",
    "wavelet_pipeline.save(\"../other_methods/pretrained/wavelet_pretrained\")"
   ]
  },
  {
   "cell_type": "code",
   "execution_count": null,
   "id": "36a7c852-d153-4c73-ae8e-652ca918fbf1",
   "metadata": {},
   "outputs": [],
   "source": [
    "# Train on files\n",
    "spike_deconvolution_pipeline.train(files)\n",
    "\n",
    "# Save new parameters\n",
    "spike_deconvolution_pipeline.save(\"../other_methods/pretrained/spike_deconvolution_pretrained\")"
   ]
  },
  {
   "cell_type": "code",
   "execution_count": null,
   "id": "bda50170-bbe9-472c-98d0-ad5c1135ecb7",
   "metadata": {},
   "outputs": [],
   "source": [
    "# Train on files\n",
    "dtct_pipeline.train(files)\n",
    "\n",
    "# Save new parameters\n",
    "dtct_pipeline.save(\"../other_methods/pretrained/dtct_pretrained\")"
   ]
  },
  {
   "cell_type": "code",
   "execution_count": null,
   "id": "c3e3293a-46b9-4afc-b879-550e3154541b",
   "metadata": {},
   "outputs": [],
   "source": [
    "files"
   ]
  }
 ],
 "metadata": {
  "kernelspec": {
   "display_name": "Python 3 (ipykernel)",
   "language": "python",
   "name": "python3"
  },
  "language_info": {
   "codemirror_mode": {
    "name": "ipython",
    "version": 3
   },
   "file_extension": ".py",
   "mimetype": "text/x-python",
   "name": "python",
   "nbconvert_exporter": "python",
   "pygments_lexer": "ipython3",
   "version": "3.12.9"
  }
 },
 "nbformat": 4,
 "nbformat_minor": 5
}
