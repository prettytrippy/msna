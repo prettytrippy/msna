{
 "cells": [
  {
   "cell_type": "code",
   "execution_count": 1,
   "id": "55dd4a57-1cb2-477a-9964-1dcc90b11073",
   "metadata": {},
   "outputs": [
    {
     "name": "stderr",
     "output_type": "stream",
     "text": [
      "/Users/trippdow/Projects/HealthIntelligence/msna/msna/our_method/msna_pipeline.py:49: FutureWarning: You are using `torch.load` with `weights_only=False` (the current default value), which uses the default pickle module implicitly. It is possible to construct malicious pickle data which will execute arbitrary code during unpickling (See https://github.com/pytorch/pytorch/blob/main/SECURITY.md#untrusted-models for more details). In a future release, the default value for `weights_only` will be flipped to `True`. This limits the functions that could be executed during unpickling. Arbitrary objects will no longer be allowed to be loaded via this mode unless they are explicitly allowlisted by the user via `torch.serialization.add_safe_globals`. We recommend you start setting `weights_only=True` for any use case where you don't have full control of the loaded file. Please open an issue on GitHub for any issues related to this experimental feature.\n",
      "  self.cnn.load_state_dict(torch.load(f\"{output_folder}/model_parameters.pth\"))\n"
     ]
    }
   ],
   "source": [
    "import numpy as np\n",
    "import matplotlib.pyplot as plt\n",
    "import glob\n",
    "from tqdm import tqdm\n",
    "\n",
    "from msna.our_method.msna_pipeline import MSNA_pipeline\n",
    "from msna.msna_common import get_files, read_msna\n",
    "# sys.path.append(\"../other_methods\")\n",
    "# from wavelet import WaveletPipeline"
   ]
  },
  {
   "cell_type": "code",
   "execution_count": 16,
   "id": "69769ef8-84f3-4f75-80fa-a46f7a283675",
   "metadata": {},
   "outputs": [],
   "source": [
    " \n",
    "files = get_files(\"../../../Archival/MSNAS/MSNA*/MSNA*burstcomments*.txt\")\n",
    "pipeline = MSNA_pipeline(sampling_rate=250, verbose=True)\n",
    "# pipeline = WaveletPipeline(scale=10, verbose=True)\n",
    "pipeline.load(\"../our_method/pretrained/\")"
   ]
  },
  {
   "cell_type": "code",
   "execution_count": null,
   "id": "76aabd35-62db-44be-a10a-abdf0668f83d",
   "metadata": {},
   "outputs": [
    {
     "name": "stderr",
     "output_type": "stream",
     "text": [
      "  0%|                                                     | 0/1 [00:00<?, ?it/s]"
     ]
    }
   ],
   "source": [
    "\n",
    "# np.random.shuffle(files)\n",
    "for filename in tqdm(files[9:10]):\n",
    "    df = read_msna(filename)\n",
    "\n",
    "    if df is not None:\n",
    "        \n",
    "        # Extract indices of the actual BURST events\n",
    "        actual_burst_indices = df[df['BURST'] != 0].index\n",
    "        \n",
    "        # predicted_burst_indices, probabilities = pipeline.predict(filename)\n",
    "        predicted_burst_indices = pipeline.predict(filename)\n",
    "\n",
    "        # probabilities = (probabilities - np.min(probabilities)) / (np.max(probabilities) - np.min(probabilities))\n",
    "        \n",
    "        plot_start = 3000 #np.random.randint(1000, 2000)\n",
    "        plot_end = 5000 #plot_start + np.random.randint(20000, 30000)\n",
    "\n",
    "        actual_burst_indices = actual_burst_indices[(actual_burst_indices<plot_end) & (actual_burst_indices>plot_start)]\n",
    "        \n",
    "        valid_indices = (predicted_burst_indices < plot_end) & (predicted_burst_indices > plot_start)\n",
    "        predicted_burst_indices = predicted_burst_indices[valid_indices]\n",
    "        # probabilities = probabilities[valid_indices]\n",
    "        # new_probabilities = np.zeros(len(df))\n",
    "        # new_probabilities[predicted_burst_indices] = probabilities\n",
    "        # new_probabilities = new_probabilities[plot_start:plot_end]\n",
    "        signal = df['Integrated MSNA'][plot_start:plot_end]\n",
    "        \n",
    "        # Plot the results\n",
    "        plt.figure(figsize=(14, 8))\n",
    "        plt.plot(signal, label='Filtered Signal')\n",
    "        plt.plot(actual_burst_indices, \n",
    "                 df['Integrated MSNA'][actual_burst_indices], \n",
    "                 \"o\", label='Actual BURST Events', color='blue')\n",
    "        plt.plot(predicted_burst_indices, \n",
    "                 df['Integrated MSNA'][predicted_burst_indices], \n",
    "                 \"x\", label='Detected Peaks', color='red')\n",
    "        # plt.plot(range(plot_start, plot_end), \n",
    "        #          new_probabilities*(max(signal)-min(signal)) + min(signal), \n",
    "        #         label='Probabilities', color='red')\n",
    "        \n",
    "        plt.title('Detected Peaks vs Actual BURST Events')\n",
    "        plt.xlabel('Sample Index')\n",
    "        plt.ylabel('Filtered Signal')\n",
    "        plt.legend()\n",
    "        plt.show()\n"
   ]
  },
  {
   "cell_type": "code",
   "execution_count": null,
   "id": "3c83882b-9843-4298-a3b0-02e7e77bf996",
   "metadata": {},
   "outputs": [],
   "source": []
  }
 ],
 "metadata": {
  "kernelspec": {
   "display_name": "Python 3 (ipykernel)",
   "language": "python",
   "name": "python3"
  },
  "language_info": {
   "codemirror_mode": {
    "name": "ipython",
    "version": 3
   },
   "file_extension": ".py",
   "mimetype": "text/x-python",
   "name": "python",
   "nbconvert_exporter": "python",
   "pygments_lexer": "ipython3",
   "version": "3.12.9"
  }
 },
 "nbformat": 4,
 "nbformat_minor": 5
}
