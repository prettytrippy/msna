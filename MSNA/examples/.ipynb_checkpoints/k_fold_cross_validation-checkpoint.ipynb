{
 "cells": [
  {
   "cell_type": "code",
   "execution_count": 1,
   "metadata": {},
   "outputs": [
    {
     "name": "stderr",
     "output_type": "stream",
     "text": [
      "/Users/trippdow/Projects/HealthIntelligence/msna/msna/our_methods/binary_classifier/msna_pipeline.py:49: FutureWarning: You are using `torch.load` with `weights_only=False` (the current default value), which uses the default pickle module implicitly. It is possible to construct malicious pickle data which will execute arbitrary code during unpickling (See https://github.com/pytorch/pytorch/blob/main/SECURITY.md#untrusted-models for more details). In a future release, the default value for `weights_only` will be flipped to `True`. This limits the functions that could be executed during unpickling. Arbitrary objects will no longer be allowed to be loaded via this mode unless they are explicitly allowlisted by the user via `torch.serialization.add_safe_globals`. We recommend you start setting `weights_only=True` for any use case where you don't have full control of the loaded file. Please open an issue on GitHub for any issues related to this experimental feature.\n",
      "  self.cnn.load_state_dict(torch.load(f\"{output_folder}/model_parameters.pth\"))\n"
     ]
    }
   ],
   "source": [
    "import sys\n",
    "import glob\n",
    "from scipy.optimize import differential_evolution, dual_annealing, minimize\n",
    "import torch\n",
    "import numpy as np\n",
    "\n",
    "sys.path.append(\"..\")\n",
    "from msna_common import get_dataframes\n",
    "from msna.our_methods.binary_classifier.msna_cnn import MSNA_CNN\n",
    "from msna.our_methods.binary_classifier.msna_pipeline import MSNA_pipeline\n",
    "\n",
    "# sys.path.append(\"../other_methods\")\n",
    "# from spike_deconvolution import SpikeDeconvolverPipeline\n",
    "# from dtct import DTCT_pipeline\n",
    "# from dtcts import DTCT1, DTCT2\n",
    "# from wavelet import WaveletPipeline\n",
    "# from find_peaks import PeakFinderPipeline"
   ]
  },
  {
   "cell_type": "code",
   "execution_count": 2,
   "metadata": {},
   "outputs": [],
   "source": [
    "files = glob.glob(\"../../../Archival/MSNAS/MSNA*/MSNA*burstcomments*.txt\")"
   ]
  },
  {
   "cell_type": "code",
   "execution_count": 3,
   "metadata": {},
   "outputs": [],
   "source": [
    "pipeline = MSNA_pipeline(\n",
    "        window_size=256, verbose=True, \n",
    "        argmax_prop=0.35, dropout_prob=0.6, \n",
    "        fc_dim=32, training_imbalance=4.0,\n",
    "        rectify_prop=0.5, low_freq=0.5, high_freq=35,\n",
    "        augment_prob=0.0, a=1\n",
    ")\n",
    "\n",
    "# pipeline = WaveletPipeline(scale=10)\n",
    "# pipeline = DTCT_pipeline(DTCT1, low=2000, high=2000, sampling_rate=1000, verbose=True)\n",
    "# pipeline = DTCT_pipeline(DTCT2, low=500, high=500, sampling_rate=1000, verbose=True)\n",
    "# pipeline = SpikeDeconvolverPipeline(verbose=True, n=128)\n",
    "# pipeline = PeakFinderPipeline(verbose=True)"
   ]
  },
  {
   "cell_type": "code",
   "execution_count": 4,
   "metadata": {},
   "outputs": [
    {
     "name": "stdout",
     "output_type": "stream",
     "text": [
      "Training\n",
      "Processing dataframes.\n",
      "Processed dataframes, chunking.\n",
      "Got chunks, making dataloader.\n",
      "Made dataloader, training CNN.\n"
     ]
    },
    {
     "name": "stderr",
     "output_type": "stream",
     "text": [
      "/Users/trippdow/anaconda3/envs/msna_test/lib/python3.12/site-packages/torch/optim/lr_scheduler.py:62: UserWarning: The verbose parameter is deprecated. Please use get_last_lr() to access the learning rate.\n",
      "  warnings.warn(\n"
     ]
    },
    {
     "name": "stdout",
     "output_type": "stream",
     "text": [
      "Epoch [8/16], Loss: 0.1306\n",
      "Epoch [16/16], Loss: 0.1054\n",
      "Training complete.\n",
      "trained CNN, getting threshold.\n",
      "Threshold result:              message: Optimization terminated successfully.\n",
      "             success: True\n",
      "                 fun: 0.11387347719475038\n",
      "                   x: [ 3.853e-01]\n",
      "                 nit: 3\n",
      "                nfev: 62\n",
      "          population: [[ 3.853e-01]\n",
      "                       [ 3.971e-01]\n",
      "                       ...\n",
      "                       [ 4.142e-01]\n",
      "                       [ 3.509e-01]]\n",
      " population_energies: [ 1.139e-01  1.142e-01 ...  1.149e-01  1.144e-01]\n",
      "Got threshold, training complete.\n",
      "Validating\n",
      "F1 for split 1: 0.858508325402908\n",
      "Training\n",
      "Processing dataframes.\n",
      "Processed dataframes, chunking.\n",
      "Got chunks, making dataloader.\n",
      "Made dataloader, training CNN.\n"
     ]
    },
    {
     "name": "stderr",
     "output_type": "stream",
     "text": [
      "/Users/trippdow/anaconda3/envs/msna_test/lib/python3.12/site-packages/torch/optim/lr_scheduler.py:62: UserWarning: The verbose parameter is deprecated. Please use get_last_lr() to access the learning rate.\n",
      "  warnings.warn(\n"
     ]
    },
    {
     "name": "stdout",
     "output_type": "stream",
     "text": [
      "Epoch [8/16], Loss: 0.1273\n",
      "Epoch [16/16], Loss: 0.0930\n",
      "Training complete.\n",
      "trained CNN, getting threshold.\n",
      "Threshold result:              message: Optimization terminated successfully.\n",
      "             success: True\n",
      "                 fun: 0.10912351975740187\n",
      "                   x: [ 7.217e-01]\n",
      "                 nit: 3\n",
      "                nfev: 62\n",
      "          population: [[ 7.217e-01]\n",
      "                       [ 7.077e-01]\n",
      "                       ...\n",
      "                       [ 7.325e-01]\n",
      "                       [ 7.260e-01]]\n",
      " population_energies: [ 1.091e-01  1.099e-01 ...  1.092e-01  1.094e-01]\n",
      "Got threshold, training complete.\n",
      "Validating\n",
      "F1 for split 2: 0.8537936204225794\n",
      "Training\n",
      "Processing dataframes.\n",
      "Processed dataframes, chunking.\n",
      "Got chunks, making dataloader.\n",
      "Made dataloader, training CNN.\n"
     ]
    },
    {
     "name": "stderr",
     "output_type": "stream",
     "text": [
      "/Users/trippdow/anaconda3/envs/msna_test/lib/python3.12/site-packages/torch/optim/lr_scheduler.py:62: UserWarning: The verbose parameter is deprecated. Please use get_last_lr() to access the learning rate.\n",
      "  warnings.warn(\n"
     ]
    },
    {
     "name": "stdout",
     "output_type": "stream",
     "text": [
      "Epoch [8/16], Loss: 0.1368\n",
      "Epoch [16/16], Loss: 0.1155\n",
      "Training complete.\n",
      "trained CNN, getting threshold.\n",
      "Threshold result:              message: Optimization terminated successfully.\n",
      "             success: True\n",
      "                 fun: 0.11724590704082968\n",
      "                   x: [ 4.573e-01]\n",
      "                 nit: 3\n",
      "                nfev: 62\n",
      "          population: [[ 4.573e-01]\n",
      "                       [ 4.393e-01]\n",
      "                       ...\n",
      "                       [ 4.931e-01]\n",
      "                       [ 4.299e-01]]\n",
      " population_energies: [ 1.172e-01  1.186e-01 ...  1.179e-01  1.201e-01]\n",
      "Got threshold, training complete.\n",
      "Validating\n",
      "F1 for split 3: 0.8922337370182353\n",
      "Training\n",
      "Processing dataframes.\n",
      "Processed dataframes, chunking.\n",
      "Got chunks, making dataloader.\n",
      "Made dataloader, training CNN.\n"
     ]
    },
    {
     "name": "stderr",
     "output_type": "stream",
     "text": [
      "/Users/trippdow/anaconda3/envs/msna_test/lib/python3.12/site-packages/torch/optim/lr_scheduler.py:62: UserWarning: The verbose parameter is deprecated. Please use get_last_lr() to access the learning rate.\n",
      "  warnings.warn(\n"
     ]
    },
    {
     "name": "stdout",
     "output_type": "stream",
     "text": [
      "Epoch [8/16], Loss: 0.1167\n",
      "Epoch [16/16], Loss: 0.0919\n",
      "Training complete.\n",
      "trained CNN, getting threshold.\n",
      "Threshold result:              message: Optimization terminated successfully.\n",
      "             success: True\n",
      "                 fun: 0.12200941339366712\n",
      "                   x: [ 5.203e-01]\n",
      "                 nit: 4\n",
      "                nfev: 77\n",
      "          population: [[ 5.203e-01]\n",
      "                       [ 3.608e-01]\n",
      "                       ...\n",
      "                       [ 5.004e-01]\n",
      "                       [ 4.973e-01]]\n",
      " population_energies: [ 1.220e-01  1.258e-01 ...  1.223e-01  1.223e-01]\n",
      "Got threshold, training complete.\n",
      "Validating\n",
      "F1 for split 4: 0.8737648190908448\n",
      "Training\n",
      "Processing dataframes.\n",
      "Processed dataframes, chunking.\n",
      "Got chunks, making dataloader.\n",
      "Made dataloader, training CNN.\n"
     ]
    },
    {
     "name": "stderr",
     "output_type": "stream",
     "text": [
      "/Users/trippdow/anaconda3/envs/msna_test/lib/python3.12/site-packages/torch/optim/lr_scheduler.py:62: UserWarning: The verbose parameter is deprecated. Please use get_last_lr() to access the learning rate.\n",
      "  warnings.warn(\n"
     ]
    },
    {
     "name": "stdout",
     "output_type": "stream",
     "text": [
      "Epoch [8/16], Loss: 0.1366\n",
      "Epoch [16/16], Loss: 0.1036\n",
      "Training complete.\n",
      "trained CNN, getting threshold.\n",
      "Threshold result:              message: Optimization terminated successfully.\n",
      "             success: True\n",
      "                 fun: 0.12679026126454648\n",
      "                   x: [ 5.278e-01]\n",
      "                 nit: 3\n",
      "                nfev: 62\n",
      "          population: [[ 5.278e-01]\n",
      "                       [ 4.876e-01]\n",
      "                       ...\n",
      "                       [ 4.863e-01]\n",
      "                       [ 5.166e-01]]\n",
      " population_energies: [ 1.268e-01  1.285e-01 ...  1.287e-01  1.273e-01]\n",
      "Got threshold, training complete.\n",
      "Validating\n",
      "F1 for split 5: 0.8977113492670664\n",
      "0.8626866229295805 0.02581207631594765\n",
      "0.9014339407995194 0.01797706030929018\n",
      "0.8752023702403268 0.017526059718315876\n"
     ]
    }
   ],
   "source": [
    "precisions, recalls, f1s = pipeline.k_fold_cross_validation(files, 5)\n",
    "print(np.mean(precisions), np.std(precisions))\n",
    "print(np.mean(recalls), np.std(recalls))\n",
    "print(np.mean(f1s), np.std(f1s))"
   ]
  },
  {
   "cell_type": "code",
   "execution_count": null,
   "metadata": {},
   "outputs": [],
   "source": []
  }
 ],
 "metadata": {
  "kernelspec": {
   "display_name": "Python 3 (ipykernel)",
   "language": "python",
   "name": "python3"
  },
  "language_info": {
   "codemirror_mode": {
    "name": "ipython",
    "version": 3
   },
   "file_extension": ".py",
   "mimetype": "text/x-python",
   "name": "python",
   "nbconvert_exporter": "python",
   "pygments_lexer": "ipython3",
   "version": "3.12.9"
  }
 },
 "nbformat": 4,
 "nbformat_minor": 4
}
