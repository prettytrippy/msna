{
 "cells": [
  {
   "cell_type": "code",
   "execution_count": 1,
   "metadata": {},
   "outputs": [
    {
     "name": "stderr",
     "output_type": "stream",
     "text": [
      "/Users/trippdow/Projects/HealthIntelligence/msna/msna/our_method/msna_pipeline.py:49: FutureWarning: You are using `torch.load` with `weights_only=False` (the current default value), which uses the default pickle module implicitly. It is possible to construct malicious pickle data which will execute arbitrary code during unpickling (See https://github.com/pytorch/pytorch/blob/main/SECURITY.md#untrusted-models for more details). In a future release, the default value for `weights_only` will be flipped to `True`. This limits the functions that could be executed during unpickling. Arbitrary objects will no longer be allowed to be loaded via this mode unless they are explicitly allowlisted by the user via `torch.serialization.add_safe_globals`. We recommend you start setting `weights_only=True` for any use case where you don't have full control of the loaded file. Please open an issue on GitHub for any issues related to this experimental feature.\n",
      "  self.cnn.load_state_dict(torch.load(f\"{output_folder}/model_parameters.pth\"))\n"
     ]
    }
   ],
   "source": [
    "import sys\n",
    "import glob\n",
    "from scipy.optimize import differential_evolution, dual_annealing, minimize\n",
    "import torch\n",
    "import numpy as np\n",
    "\n",
    "from msna.msna_common import get_dataframes\n",
    "from msna.our_method.msna_cnn import MSNA_CNN\n",
    "from msna.our_method.msna_pipeline import MSNA_pipeline\n",
    "\n",
    "# sys.path.append(\"../other_methods\")\n",
    "# from spike_deconvolution import SpikeDeconvolverPipeline\n",
    "# from dtct import DTCT_pipeline\n",
    "# from dtcts import DTCT1, DTCT2\n",
    "# from wavelet import WaveletPipeline\n",
    "# from find_peaks import PeakFinderPipeline"
   ]
  },
  {
   "cell_type": "code",
   "execution_count": 2,
   "metadata": {},
   "outputs": [],
   "source": [
    "files = glob.glob(\"../../../Archival/MSNAS/MSNA*/MSNA*burstcomments*.txt\")"
   ]
  },
  {
   "cell_type": "code",
   "execution_count": 3,
   "metadata": {},
   "outputs": [],
   "source": [
    "pipeline = MSNA_pipeline(\n",
    "        window_size=256, verbose=True, \n",
    "        argmax_prop=0.35, dropout_prob=0.6, \n",
    "        fc_dim=32, training_imbalance=4.0,\n",
    "        rectify_prop=0.5, low_freq=0.5, high_freq=35,\n",
    "        augment_prob=0.0, a=1\n",
    ")\n",
    "\n",
    "# pipeline = WaveletPipeline(scale=10)\n",
    "# pipeline = DTCT_pipeline(DTCT1, low=2000, high=2000, sampling_rate=1000, verbose=True)\n",
    "# pipeline = DTCT_pipeline(DTCT2, low=500, high=500, sampling_rate=1000, verbose=True)\n",
    "# pipeline = SpikeDeconvolverPipeline(verbose=True, n=128)\n",
    "# pipeline = PeakFinderPipeline(verbose=True)"
   ]
  },
  {
   "cell_type": "code",
   "execution_count": 4,
   "metadata": {},
   "outputs": [
    {
     "name": "stdout",
     "output_type": "stream",
     "text": [
      "Training\n",
      "Processing dataframes.\n",
      "No bursts found in file ../../../Archival/MSNAS/MSNA172/MSNA172_rest_burstcomments_downsampled_Emma.txt\n",
      "Processed dataframes, chunking.\n",
      "Got chunks, making dataloader.\n",
      "Made dataloader, training CNN.\n"
     ]
    },
    {
     "name": "stderr",
     "output_type": "stream",
     "text": [
      "/Users/trippdow/anaconda3/envs/msna_test/lib/python3.12/site-packages/torch/optim/lr_scheduler.py:62: UserWarning: The verbose parameter is deprecated. Please use get_last_lr() to access the learning rate.\n",
      "  warnings.warn(\n"
     ]
    },
    {
     "name": "stdout",
     "output_type": "stream",
     "text": [
      "Epoch [8/16], Loss: 0.1214\n",
      "Epoch [16/16], Loss: 0.0942\n",
      "Training complete.\n",
      "trained CNN, getting threshold.\n",
      "Threshold result:              message: Optimization terminated successfully.\n",
      "             success: True\n",
      "                 fun: 0.10663976586616904\n",
      "                   x: [ 6.663e-01]\n",
      "                 nit: 3\n",
      "                nfev: 62\n",
      "          population: [[ 6.663e-01]\n",
      "                       [ 6.654e-01]\n",
      "                       ...\n",
      "                       [ 6.314e-01]\n",
      "                       [ 6.168e-01]]\n",
      " population_energies: [ 1.066e-01  1.067e-01 ...  1.072e-01  1.071e-01]\n",
      "Got threshold, training complete.\n",
      "Validating\n",
      "Training\n",
      "Processing dataframes.\n",
      "No bursts found in file ../../../Archival/MSNAS/MSNA172/MSNA172_rest_burstcomments_downsampled_Emma.txt\n",
      "Processed dataframes, chunking.\n",
      "Got chunks, making dataloader.\n",
      "Made dataloader, training CNN.\n"
     ]
    },
    {
     "name": "stderr",
     "output_type": "stream",
     "text": [
      "/Users/trippdow/anaconda3/envs/msna_test/lib/python3.12/site-packages/torch/optim/lr_scheduler.py:62: UserWarning: The verbose parameter is deprecated. Please use get_last_lr() to access the learning rate.\n",
      "  warnings.warn(\n"
     ]
    },
    {
     "name": "stdout",
     "output_type": "stream",
     "text": [
      "Epoch [8/16], Loss: 0.1199\n",
      "Epoch [16/16], Loss: 0.0894\n",
      "Training complete.\n",
      "trained CNN, getting threshold.\n",
      "Threshold result:              message: Optimization terminated successfully.\n",
      "             success: True\n",
      "                 fun: 0.11020163321570223\n",
      "                   x: [ 6.144e-01]\n",
      "                 nit: 3\n",
      "                nfev: 62\n",
      "          population: [[ 6.144e-01]\n",
      "                       [ 5.896e-01]\n",
      "                       ...\n",
      "                       [ 5.884e-01]\n",
      "                       [ 6.278e-01]]\n",
      " population_energies: [ 1.102e-01  1.113e-01 ...  1.112e-01  1.105e-01]\n",
      "Got threshold, training complete.\n",
      "Validating\n",
      "Training\n",
      "Processing dataframes.\n",
      "No bursts found in file ../../../Archival/MSNAS/MSNA172/MSNA172_rest_burstcomments_downsampled_Emma.txt\n",
      "Processed dataframes, chunking.\n",
      "Got chunks, making dataloader.\n",
      "Made dataloader, training CNN.\n"
     ]
    },
    {
     "name": "stderr",
     "output_type": "stream",
     "text": [
      "/Users/trippdow/anaconda3/envs/msna_test/lib/python3.12/site-packages/torch/optim/lr_scheduler.py:62: UserWarning: The verbose parameter is deprecated. Please use get_last_lr() to access the learning rate.\n",
      "  warnings.warn(\n"
     ]
    },
    {
     "name": "stdout",
     "output_type": "stream",
     "text": [
      "Epoch [8/16], Loss: 0.1216\n",
      "Epoch [16/16], Loss: 0.0950\n",
      "Training complete.\n",
      "trained CNN, getting threshold.\n",
      "Threshold result:              message: Optimization terminated successfully.\n",
      "             success: True\n",
      "                 fun: 0.10775800894983727\n",
      "                   x: [ 6.727e-01]\n",
      "                 nit: 2\n",
      "                nfev: 47\n",
      "          population: [[ 6.727e-01]\n",
      "                       [ 6.087e-01]\n",
      "                       ...\n",
      "                       [ 6.144e-01]\n",
      "                       [ 7.641e-01]]\n",
      " population_energies: [ 1.078e-01  1.081e-01 ...  1.084e-01  1.091e-01]\n",
      "Got threshold, training complete.\n",
      "Validating\n",
      "Training\n",
      "Processing dataframes.\n",
      "No bursts found in file ../../../Archival/MSNAS/MSNA172/MSNA172_rest_burstcomments_downsampled_Emma.txt\n",
      "Processed dataframes, chunking.\n",
      "Got chunks, making dataloader.\n",
      "Made dataloader, training CNN.\n"
     ]
    },
    {
     "name": "stderr",
     "output_type": "stream",
     "text": [
      "/Users/trippdow/anaconda3/envs/msna_test/lib/python3.12/site-packages/torch/optim/lr_scheduler.py:62: UserWarning: The verbose parameter is deprecated. Please use get_last_lr() to access the learning rate.\n",
      "  warnings.warn(\n"
     ]
    },
    {
     "name": "stdout",
     "output_type": "stream",
     "text": [
      "Epoch [8/16], Loss: 0.1173\n",
      "Epoch [16/16], Loss: 0.0947\n",
      "Training complete.\n",
      "trained CNN, getting threshold.\n",
      "Threshold result:              message: Optimization terminated successfully.\n",
      "             success: True\n",
      "                 fun: 0.12098215723034479\n",
      "                   x: [ 6.297e-01]\n",
      "                 nit: 4\n",
      "                nfev: 77\n",
      "          population: [[ 6.297e-01]\n",
      "                       [ 5.738e-01]\n",
      "                       ...\n",
      "                       [ 6.238e-01]\n",
      "                       [ 6.811e-01]]\n",
      " population_energies: [ 1.210e-01  1.214e-01 ...  1.213e-01  1.220e-01]\n",
      "Got threshold, training complete.\n",
      "Validating\n",
      "Training\n",
      "Processing dataframes.\n",
      "Processed dataframes, chunking.\n",
      "Got chunks, making dataloader.\n",
      "Made dataloader, training CNN.\n"
     ]
    },
    {
     "name": "stderr",
     "output_type": "stream",
     "text": [
      "/Users/trippdow/anaconda3/envs/msna_test/lib/python3.12/site-packages/torch/optim/lr_scheduler.py:62: UserWarning: The verbose parameter is deprecated. Please use get_last_lr() to access the learning rate.\n",
      "  warnings.warn(\n"
     ]
    },
    {
     "name": "stdout",
     "output_type": "stream",
     "text": [
      "Epoch [8/16], Loss: 0.1087\n",
      "Epoch [16/16], Loss: 0.0863\n",
      "Training complete.\n",
      "trained CNN, getting threshold.\n",
      "Threshold result:              message: Optimization terminated successfully.\n",
      "             success: True\n",
      "                 fun: 0.12359940600764414\n",
      "                   x: [ 4.590e-01]\n",
      "                 nit: 5\n",
      "                nfev: 92\n",
      "          population: [[ 4.590e-01]\n",
      "                       [ 4.748e-01]\n",
      "                       ...\n",
      "                       [ 4.573e-01]\n",
      "                       [ 4.645e-01]]\n",
      " population_energies: [ 1.236e-01  1.241e-01 ...  1.238e-01  1.244e-01]\n",
      "Got threshold, training complete.\n",
      "Validating\n",
      "No bursts found in file ../../../Archival/MSNAS/MSNA172/MSNA172_rest_burstcomments_downsampled_Emma.txt\n",
      "[np.float64(0.827027027027027), np.float64(0.7372262773722628), np.float64(0.9259259259259259), np.float64(0.8940677966101694), np.float64(0.7416267942583732), np.float64(0.9900398406374502), np.float64(0.9723926380368099), np.float64(0.7967213114754098), np.float64(0.9626168224299065), np.float64(0.9508771929824561), np.float64(0.6877192982456141), np.float64(0.893687707641196), np.float64(0.9477124183006536), np.float64(0.9565217391304348), np.float64(0.5121951219512195), np.float64(0.9614325068870524), np.float64(0.9417989417989417), np.float64(0.7513089005235603), np.float64(0.9881235154394299), np.float64(0.9730538922155688), np.float64(0.8300970873786407), np.float64(0.8860294117647058), np.float64(0.7378640776699029), np.float64(0.9784688995215312), np.float64(0.8314176245210728), np.float64(0.9689922480620154), np.float64(0.9186351706036745), np.float64(0.7136363636363636), np.float64(0.7782426778242678), np.float64(0.7235023041474654), np.float64(0.865546218487395), np.float64(0.9409937888198758), np.float64(1.0), np.float64(0.9299363057324841), np.float64(0.9691358024691358), np.float64(0.8207171314741036), np.float64(0.8957528957528957), np.float64(0.8947368421052632), np.float64(0.9396325459317585), np.float64(0.9650537634408602), np.float64(0.7992957746478874), np.float64(0.8582677165354331), np.float64(0.9128919860627178), np.float64(0.8355795148247979), np.float64(0.9805013927576601), np.float64(0.7685589519650655), np.float64(0.7268292682926829), np.float64(0.8446215139442231)] [np.float64(0.6455696202531646), np.float64(0.7769230769230769), np.float64(0.8771929824561403), np.float64(0.8146718146718147), np.float64(0.9451219512195121), np.float64(0.9085923217550275), np.float64(0.9188405797101449), np.float64(0.9959016393442623), np.float64(0.9566563467492261), np.float64(0.7075718015665796), np.float64(0.5816023738872403), np.float64(0.9405594405594405), np.float64(0.8923076923076924), np.float64(0.8956743002544529), np.float64(1.0), np.float64(0.9509536784741145), np.float64(0.9393139841688655), np.float64(0.9965277777777778), np.float64(0.8832271762208068), np.float64(0.9615384615384616), np.float64(0.8300970873786407), np.float64(0.8925925925925926), np.float64(0.9382716049382716), np.float64(0.8346938775510204), np.float64(0.9353448275862069), np.float64(0.8680555555555556), np.float64(0.8860759493670886), np.float64(1.0), np.float64(0.9117647058823529), np.float64(1.0), np.float64(0.9155555555555556), np.float64(0.8885630498533724), np.float64(0.8370672097759674), np.float64(0.9299363057324841), np.float64(0.9101449275362319), np.float64(0.9074889867841409), np.float64(0.7341772151898734), np.float64(0.6702508960573477), np.float64(0.9754768392370572), np.float64(0.9252577319587629), np.float64(0.9380165289256198), np.float64(0.9519650655021834), np.float64(0.9961977186311787), np.float64(0.9337349397590361), np.float64(0.9336870026525199), np.float64(0.8979591836734694), np.float64(1.0), np.float64(1.0)] [np.float64(0.7251184834123223), np.float64(0.7565543071161049), np.float64(0.9009009009009009), np.float64(0.8525252525252526), np.float64(0.8310991957104557), np.float64(0.9475691134413727), np.float64(0.9448584202682563), np.float64(0.8852459016393444), np.float64(0.9596273291925467), np.float64(0.8113772455089819), np.float64(0.6302250803858521), np.float64(0.9165247018739352), np.float64(0.919175911251981), np.float64(0.9250985545335085), np.float64(0.6774193548387097), np.float64(0.9561643835616438), np.float64(0.940554821664465), np.float64(0.8567164179104477), np.float64(0.9327354260089686), np.float64(0.9672619047619048), np.float64(0.8300970873786409), np.float64(0.88929889298893), np.float64(0.8260869565217391), np.float64(0.9008810572687225), np.float64(0.8803245436105477), np.float64(0.9157509157509157), np.float64(0.9020618556701031), np.float64(0.8328912466843501), np.float64(0.8397291196388262), np.float64(0.839572192513369), np.float64(0.8898488120950324), np.float64(0.9140271493212669), np.float64(0.9113082039911308), np.float64(0.9299363057324841), np.float64(0.9387144992526157), np.float64(0.8619246861924685), np.float64(0.8069565217391305), np.float64(0.7663934426229507), np.float64(0.9572192513368983), np.float64(0.9447368421052631), np.float64(0.8631178707224335), np.float64(0.9026915113871635), np.float64(0.9527272727272728), np.float64(0.8819345661450925), np.float64(0.9565217391304348), np.float64(0.8282352941176471), np.float64(0.8418079096045198), np.float64(0.9157667386609071)]\n",
      "0.8693127697346529 0.10371892196452617\n",
      "0.8964817161982154 0.09471145750924201\n",
      "0.8761940664878711 0.0733318560189343\n"
     ]
    }
   ],
   "source": [
    "precisions, recalls, f1s = pipeline.k_fold_cross_validation(files, 5)\n",
    "print(precisions, recalls, f1s)\n",
    "print(np.mean(precisions), np.std(precisions))\n",
    "print(np.mean(recalls), np.std(recalls))\n",
    "print(np.mean(f1s), np.std(f1s))"
   ]
  },
  {
   "cell_type": "code",
   "execution_count": null,
   "metadata": {},
   "outputs": [],
   "source": []
  }
 ],
 "metadata": {
  "kernelspec": {
   "display_name": "Python 3 (ipykernel)",
   "language": "python",
   "name": "python3"
  },
  "language_info": {
   "codemirror_mode": {
    "name": "ipython",
    "version": 3
   },
   "file_extension": ".py",
   "mimetype": "text/x-python",
   "name": "python",
   "nbconvert_exporter": "python",
   "pygments_lexer": "ipython3",
   "version": "3.12.9"
  }
 },
 "nbformat": 4,
 "nbformat_minor": 4
}
