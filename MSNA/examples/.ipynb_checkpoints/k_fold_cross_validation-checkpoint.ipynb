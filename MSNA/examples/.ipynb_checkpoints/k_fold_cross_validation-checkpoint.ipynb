{
 "cells": [
  {
   "cell_type": "code",
   "execution_count": 1,
   "metadata": {},
   "outputs": [
    {
     "name": "stderr",
     "output_type": "stream",
     "text": [
      "/Users/trippdow/Projects/HealthIntelligence/msna/msna/our_methods/binary_classifier/msna_pipeline.py:49: FutureWarning: You are using `torch.load` with `weights_only=False` (the current default value), which uses the default pickle module implicitly. It is possible to construct malicious pickle data which will execute arbitrary code during unpickling (See https://github.com/pytorch/pytorch/blob/main/SECURITY.md#untrusted-models for more details). In a future release, the default value for `weights_only` will be flipped to `True`. This limits the functions that could be executed during unpickling. Arbitrary objects will no longer be allowed to be loaded via this mode unless they are explicitly allowlisted by the user via `torch.serialization.add_safe_globals`. We recommend you start setting `weights_only=True` for any use case where you don't have full control of the loaded file. Please open an issue on GitHub for any issues related to this experimental feature.\n",
      "  self.cnn.load_state_dict(torch.load(f\"{output_folder}/model_parameters.pth\"))\n"
     ]
    }
   ],
   "source": [
    "import sys\n",
    "import glob\n",
    "from scipy.optimize import differential_evolution, dual_annealing, minimize\n",
    "import torch\n",
    "import numpy as np\n",
    "\n",
    "sys.path.append(\"..\")\n",
    "from msna_common import get_dataframes\n",
    "from msna.our_methods.binary_classifier.msna_cnn import MSNA_CNN\n",
    "from msna.our_methods.binary_classifier.msna_pipeline import MSNA_pipeline\n",
    "\n",
    "# sys.path.append(\"../other_methods\")\n",
    "# from spike_deconvolution import SpikeDeconvolverPipeline\n",
    "# from dtct import DTCT_pipeline\n",
    "# from dtcts import DTCT1, DTCT2\n",
    "# from wavelet import WaveletPipeline\n",
    "# from find_peaks import PeakFinderPipeline"
   ]
  },
  {
   "cell_type": "code",
   "execution_count": 2,
   "metadata": {},
   "outputs": [],
   "source": [
    "files = glob.glob(\"../../../Archival/MSNAS/MSNA*/MSNA*burstcomments*.txt\")"
   ]
  },
  {
   "cell_type": "code",
   "execution_count": 4,
   "metadata": {},
   "outputs": [],
   "source": [
    "pipeline = MSNA_pipeline(\n",
    "        window_size=256, verbose=True, \n",
    "        argmax_prop=0.35, dropout_prob=0.6, \n",
    "        fc_dim=32, training_imbalance=4.0,\n",
    "        rectify_prop=0.5, low_freq=0.5, high_freq=35,\n",
    "        augment_prob=0.25, a=10\n",
    ")\n",
    "\n",
    "# pipeline = WaveletPipeline(scale=10)\n",
    "# pipeline = DTCT_pipeline(DTCT1, low=2000, high=2000, sampling_rate=1000, verbose=True)\n",
    "# pipeline = DTCT_pipeline(DTCT2, low=500, high=500, sampling_rate=1000, verbose=True)\n",
    "# pipeline = SpikeDeconvolverPipeline(verbose=True, n=128)\n",
    "# pipeline = PeakFinderPipeline(verbose=True)"
   ]
  },
  {
   "cell_type": "code",
   "execution_count": 5,
   "metadata": {},
   "outputs": [
    {
     "name": "stdout",
     "output_type": "stream",
     "text": [
      "Training\n",
      "Processing dataframes.\n",
      "Processed dataframes, chunking.\n",
      "Got chunks, making dataloader.\n",
      "Made dataloader, training CNN.\n"
     ]
    },
    {
     "name": "stderr",
     "output_type": "stream",
     "text": [
      "/Users/trippdow/anaconda3/envs/msna_test/lib/python3.12/site-packages/torch/optim/lr_scheduler.py:62: UserWarning: The verbose parameter is deprecated. Please use get_last_lr() to access the learning rate.\n",
      "  warnings.warn(\n"
     ]
    },
    {
     "name": "stdout",
     "output_type": "stream",
     "text": [
      "Epoch [8/16], Loss: 0.1534\n",
      "Epoch [16/16], Loss: 0.1303\n",
      "Training complete.\n",
      "trained CNN, getting threshold.\n",
      "Threshold result:              message: Optimization terminated successfully.\n",
      "             success: True\n",
      "                 fun: 0.1393769802507783\n",
      "                   x: [ 4.649e-01]\n",
      "                 nit: 4\n",
      "                nfev: 77\n",
      "          population: [[ 4.649e-01]\n",
      "                       [ 4.777e-01]\n",
      "                       ...\n",
      "                       [ 4.600e-01]\n",
      "                       [ 4.710e-01]]\n",
      " population_energies: [ 1.394e-01  1.396e-01 ...  1.397e-01  1.398e-01]\n",
      "Got threshold, training complete.\n",
      "Validating\n",
      "F1 for split 1: 0.8206322702115418\n",
      "Training\n",
      "Processing dataframes.\n",
      "Processed dataframes, chunking.\n",
      "Got chunks, making dataloader.\n",
      "Made dataloader, training CNN.\n"
     ]
    },
    {
     "name": "stderr",
     "output_type": "stream",
     "text": [
      "/Users/trippdow/anaconda3/envs/msna_test/lib/python3.12/site-packages/torch/optim/lr_scheduler.py:62: UserWarning: The verbose parameter is deprecated. Please use get_last_lr() to access the learning rate.\n",
      "  warnings.warn(\n"
     ]
    },
    {
     "name": "stdout",
     "output_type": "stream",
     "text": [
      "Epoch [8/16], Loss: 0.1576\n",
      "Epoch [16/16], Loss: 0.1332\n",
      "Training complete.\n",
      "trained CNN, getting threshold.\n",
      "Threshold result:              message: Optimization terminated successfully.\n",
      "             success: True\n",
      "                 fun: 0.1457856842291313\n",
      "                   x: [ 6.979e-01]\n",
      "                 nit: 3\n",
      "                nfev: 62\n",
      "          population: [[ 6.979e-01]\n",
      "                       [ 6.953e-01]\n",
      "                       ...\n",
      "                       [ 6.315e-01]\n",
      "                       [ 7.335e-01]]\n",
      " population_energies: [ 1.458e-01  1.460e-01 ...  1.476e-01  1.472e-01]\n",
      "Got threshold, training complete.\n",
      "Validating\n",
      "F1 for split 2: 0.8532971979839538\n",
      "Training\n",
      "Processing dataframes.\n",
      "Processed dataframes, chunking.\n",
      "Got chunks, making dataloader.\n",
      "Made dataloader, training CNN.\n"
     ]
    },
    {
     "name": "stderr",
     "output_type": "stream",
     "text": [
      "/Users/trippdow/anaconda3/envs/msna_test/lib/python3.12/site-packages/torch/optim/lr_scheduler.py:62: UserWarning: The verbose parameter is deprecated. Please use get_last_lr() to access the learning rate.\n",
      "  warnings.warn(\n"
     ]
    },
    {
     "name": "stdout",
     "output_type": "stream",
     "text": [
      "Epoch [8/16], Loss: 0.1568\n",
      "Epoch [16/16], Loss: 0.1389\n",
      "Training complete.\n",
      "trained CNN, getting threshold.\n",
      "Threshold result:              message: Optimization terminated successfully.\n",
      "             success: True\n",
      "                 fun: 0.15474059627006295\n",
      "                   x: [ 3.463e-01]\n",
      "                 nit: 5\n",
      "                nfev: 92\n",
      "          population: [[ 3.463e-01]\n",
      "                       [ 3.361e-01]\n",
      "                       ...\n",
      "                       [ 3.299e-01]\n",
      "                       [ 3.441e-01]]\n",
      " population_energies: [ 1.547e-01  1.561e-01 ...  1.559e-01  1.552e-01]\n",
      "Got threshold, training complete.\n",
      "Validating\n",
      "F1 for split 3: 0.8503572614512268\n",
      "Training\n",
      "Processing dataframes.\n",
      "Processed dataframes, chunking.\n",
      "Got chunks, making dataloader.\n",
      "Made dataloader, training CNN.\n"
     ]
    },
    {
     "name": "stderr",
     "output_type": "stream",
     "text": [
      "/Users/trippdow/anaconda3/envs/msna_test/lib/python3.12/site-packages/torch/optim/lr_scheduler.py:62: UserWarning: The verbose parameter is deprecated. Please use get_last_lr() to access the learning rate.\n",
      "  warnings.warn(\n"
     ]
    },
    {
     "name": "stdout",
     "output_type": "stream",
     "text": [
      "Epoch [8/16], Loss: 0.1889\n",
      "Epoch [16/16], Loss: 0.1682\n",
      "Training complete.\n",
      "trained CNN, getting threshold.\n",
      "Threshold result:              message: Optimization terminated successfully.\n",
      "             success: True\n",
      "                 fun: 0.14662136714384016\n",
      "                   x: [ 2.803e-01]\n",
      "                 nit: 3\n",
      "                nfev: 62\n",
      "          population: [[ 2.803e-01]\n",
      "                       [ 2.239e-01]\n",
      "                       ...\n",
      "                       [ 3.181e-01]\n",
      "                       [ 2.698e-01]]\n",
      " population_energies: [ 1.466e-01  1.485e-01 ...  1.469e-01  1.473e-01]\n",
      "Got threshold, training complete.\n",
      "Validating\n",
      "F1 for split 4: 0.8179195873702206\n",
      "Training\n",
      "Processing dataframes.\n",
      "Processed dataframes, chunking.\n",
      "Got chunks, making dataloader.\n",
      "Made dataloader, training CNN.\n"
     ]
    },
    {
     "name": "stderr",
     "output_type": "stream",
     "text": [
      "/Users/trippdow/anaconda3/envs/msna_test/lib/python3.12/site-packages/torch/optim/lr_scheduler.py:62: UserWarning: The verbose parameter is deprecated. Please use get_last_lr() to access the learning rate.\n",
      "  warnings.warn(\n"
     ]
    },
    {
     "name": "stdout",
     "output_type": "stream",
     "text": [
      "Epoch [8/16], Loss: 0.1605\n",
      "Epoch [16/16], Loss: 0.1326\n",
      "Training complete.\n",
      "trained CNN, getting threshold.\n",
      "Threshold result:              message: Optimization terminated successfully.\n",
      "             success: True\n",
      "                 fun: 0.15641173332941188\n",
      "                   x: [ 4.957e-01]\n",
      "                 nit: 4\n",
      "                nfev: 77\n",
      "          population: [[ 4.957e-01]\n",
      "                       [ 5.648e-01]\n",
      "                       ...\n",
      "                       [ 5.132e-01]\n",
      "                       [ 5.269e-01]]\n",
      " population_energies: [ 1.564e-01  1.595e-01 ...  1.567e-01  1.573e-01]\n",
      "Got threshold, training complete.\n",
      "Validating\n",
      "F1 for split 5: 0.8358491816805068\n",
      "0.8267632978318513 0.04564774653447616\n",
      "0.8714161270518517 0.030530308182502467\n",
      "0.83561109973949 0.01461272721494176\n"
     ]
    }
   ],
   "source": [
    "precisions, recalls, f1s = pipeline.k_fold_cross_validation(files, 5)\n",
    "print(np.mean(precisions), np.std(precisions))\n",
    "print(np.mean(recalls), np.std(recalls))\n",
    "print(np.mean(f1s), np.std(f1s))"
   ]
  },
  {
   "cell_type": "code",
   "execution_count": null,
   "metadata": {},
   "outputs": [],
   "source": []
  }
 ],
 "metadata": {
  "kernelspec": {
   "display_name": "Python 3 (ipykernel)",
   "language": "python",
   "name": "python3"
  },
  "language_info": {
   "codemirror_mode": {
    "name": "ipython",
    "version": 3
   },
   "file_extension": ".py",
   "mimetype": "text/x-python",
   "name": "python",
   "nbconvert_exporter": "python",
   "pygments_lexer": "ipython3",
   "version": "3.12.9"
  }
 },
 "nbformat": 4,
 "nbformat_minor": 4
}
